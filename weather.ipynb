{
  "nbformat": 4,
  "nbformat_minor": 0,
  "metadata": {
    "colab": {
      "provenance": []
    },
    "kernelspec": {
      "name": "python3",
      "display_name": "Python 3"
    },
    "language_info": {
      "name": "python"
    }
  },
  "cells": [
    {
      "cell_type": "code",
      "execution_count": null,
      "metadata": {
        "id": "IsN78dRRgNsE"
      },
      "outputs": [],
      "source": [
        "import requests\n",
        "from bs4 import BeautifulSoup\n",
        "response=requests.get('http://www.kma.go.kr/weather/observation/currentweather.jsp')\n",
        "soup=BeautifulSoup(response.content,'html.parser')"
      ]
    },
    {
      "cell_type": "code",
      "source": [
        "table=soup.find('table',{'class':'table-col'})\n",
        "data=[]\n",
        "for tr in table.find_all('tr'):\n",
        "  tds = list(tr.find_all('td'))\n",
        "  ths = list(tr.find_all('th'))\n",
        "\n",
        "  for th in ths:\n",
        "    if th.find('a'):\n",
        "      city=th.find('a').text\n",
        "      temperature=tds[4].text\n",
        "      humidity=tds[9].text\n",
        "      data.append([city,temperature,humidity])\n",
        "data"
      ],
      "metadata": {
        "colab": {
          "base_uri": "https://localhost:8080/"
        },
        "id": "-MuFrBaFkhC0",
        "outputId": "a5371f6a-d113-4184-eb04-4ccbed67a12a"
      },
      "execution_count": null,
      "outputs": [
        {
          "output_type": "execute_result",
          "data": {
            "text/plain": [
              "[['강릉', '11.4', '90'],\n",
              " ['강진군', '13.0', '100'],\n",
              " ['강화', '11.2', '93'],\n",
              " ['거제', '12.4', '97'],\n",
              " ['거창', '10.7', '96'],\n",
              " ['경주시', '10.4', '87'],\n",
              " ['고산', '14.9', '97'],\n",
              " ['고창', '12.7', '95'],\n",
              " ['고창군', '12.8', '96'],\n",
              " ['고흥', '13.1', '95'],\n",
              " ['광양시', '12.5', '91'],\n",
              " ['광주', '13.2', '99'],\n",
              " ['구미', '11.4', '84'],\n",
              " ['군산', '12.9', '95'],\n",
              " ['금산', '11.4', '90'],\n",
              " ['김해시', '11.8', '96'],\n",
              " ['남원', '12.2', '93'],\n",
              " ['남해', '13.1', '91'],\n",
              " ['대관령', '6.1', '95'],\n",
              " ['대구', '10.8', '92'],\n",
              " ['대전', '13.2', '72'],\n",
              " ['동두천', '11.1', '89'],\n",
              " ['동해', '10.4', '92'],\n",
              " ['목포', '13.1', '97'],\n",
              " ['문경', '10.8', '88'],\n",
              " ['밀양', '12.3', '84'],\n",
              " ['백령도', '10.1', '96'],\n",
              " ['보령', '12.8', '94'],\n",
              " ['보성군', '13.4', '100'],\n",
              " ['보은', '11.8', '77'],\n",
              " ['봉화', '9.8', '97'],\n",
              " ['부산', '11.9', '88'],\n",
              " ['부안', '13.4', '95'],\n",
              " ['부여', '12.9', '98'],\n",
              " ['북강릉', '10.6', '94'],\n",
              " ['북부산', '12.7', '76'],\n",
              " ['북창원', '12.7', '92'],\n",
              " ['북춘천', '11.8', '84'],\n",
              " ['산청', '11.6', '98'],\n",
              " ['상주', '11.1', '84'],\n",
              " ['서귀포', '14.9', '92'],\n",
              " ['서산', '12.4', '96'],\n",
              " ['서울', '13.3', '71'],\n",
              " ['서청주', '12.8', '66'],\n",
              " ['성산', '15.4', '93'],\n",
              " ['세종', '13.2', '77'],\n",
              " ['속초', '10.8', '91'],\n",
              " ['수원', '13.7', '65'],\n",
              " ['순창군', '13.2', '92'],\n",
              " ['순천', '12.1', '99'],\n",
              " ['안동', '10.2', '93'],\n",
              " ['양산시', '12.5', '84'],\n",
              " ['양평', '13.9', '68'],\n",
              " ['여수', '13.4', '88'],\n",
              " ['영광군', '13.1', '94'],\n",
              " ['영덕', '10.0', '88'],\n",
              " ['영월', '10.7', '91'],\n",
              " ['영주', '10.0', '100'],\n",
              " ['영천', '10.6', '97'],\n",
              " ['완도', '13.1', '94'],\n",
              " ['울릉도', '9.9', '100'],\n",
              " ['울산', '10.2', '91'],\n",
              " ['울진', '10.0', '95'],\n",
              " ['원주', '13.8', '64'],\n",
              " ['의령군', '12.2', '91'],\n",
              " ['의성', '10.7', '100'],\n",
              " ['이천', '12.8', '78'],\n",
              " ['인제', '10.1', '92'],\n",
              " ['인천', '13.0', '82'],\n",
              " ['임실', '12.3', '95'],\n",
              " ['장수', '11.0', '94'],\n",
              " ['장흥', '12.7', '99'],\n",
              " ['전주', '13.7', '88'],\n",
              " ['정선군', '9.0', '90'],\n",
              " ['정읍', '12.9', '94'],\n",
              " ['제주', '15.4', '89'],\n",
              " ['제천', '10.4', '89'],\n",
              " ['진도군', '13.7', '94'],\n",
              " ['진주', '12.0', '93'],\n",
              " ['창원', '12.4', '89'],\n",
              " ['천안', '13.9', '67'],\n",
              " ['철원', '10.3', '86'],\n",
              " ['청송군', '9.5', '88'],\n",
              " ['청주', '14.1', '60'],\n",
              " ['추풍령', '10.1', '87'],\n",
              " ['춘천', '11.3', '84'],\n",
              " ['충주', '13.1', '68'],\n",
              " ['태백', '7.1', '92'],\n",
              " ['통영', '12.5', '95'],\n",
              " ['파주', '10.3', '95'],\n",
              " ['포항', '11.1', '85'],\n",
              " ['함양군', '11.7', '93'],\n",
              " ['합천', '11.7', '90'],\n",
              " ['해남', '12.1', '99'],\n",
              " ['홍성', '12.7', '99'],\n",
              " ['홍천', '11.6', '82'],\n",
              " ['흑산도', '13.6', '99']]"
            ]
          },
          "metadata": {},
          "execution_count": 4
        }
      ]
    },
    {
      "cell_type": "code",
      "source": [
        "with open('weather.csv','w')as file:\n",
        "  file.write('city,temperature,humidity\\n')\n",
        "  for i in data:\n",
        "    file.write(f'{i[0]},{i[1]},{i[2]}\\n')"
      ],
      "metadata": {
        "id": "xnAW9niPlDU0"
      },
      "execution_count": null,
      "outputs": []
    },
    {
      "cell_type": "code",
      "source": [
        "import requests\n",
        "from bs4 import BeautifulSoup\n",
        "\n",
        "response = requests.get('https://www.weather.go.kr/w/weather/forecast/mid-term.do')\n",
        "soup = BeautifulSoup(response.content, 'html.parser')\n",
        "table = soup.find('table', {'class': 'table-col cmp-sticky-type1'})\n",
        "\n",
        "ct_li = []\n",
        "tmn_li = []\n",
        "tmx_li = []\n",
        "\n",
        "for tr in table.find_all('tr'):\n",
        "  if tr.find('td', {'class': 'midterm-city'}) == None:\n",
        "    pass\n",
        "  else:\n",
        "    cts = tr.find('td', {'class': 'midterm-city'})\n",
        "    ct_li.append(cts.find('span').text)\n",
        "\n",
        "  if tr.find('span', {'class': 'tmn'}) == None:\n",
        "    pass\n",
        "  else:\n",
        "    tmns = tr.find('span', {'class': 'tmn'})\n",
        "    tmn_li.append(tmns.text)\n",
        "\n",
        "  if tr.find('span', {'class': 'tmx'}) == None:\n",
        "    pass\n",
        "  else:\n",
        "    tmxs = tr.find('span', {'class': 'tmx'})\n",
        "    tmx_li.append(tmxs.text)\n",
        "\n",
        "for i in range(41):\n",
        "    print(ct_li[i] + ':' + tmn_li[i] + '/' + tmx_li[i])"
      ],
      "metadata": {
        "colab": {
          "base_uri": "https://localhost:8080/"
        },
        "id": "XEBQKQTgsAM0",
        "outputId": "aaa71253-6e63-4cde-a9f9-6965bd6b8e51"
      },
      "execution_count": null,
      "outputs": [
        {
          "output_type": "stream",
          "name": "stdout",
          "text": [
            "서울:4/15\n",
            "인천:5/13\n",
            "수원:3/15\n",
            "파주:0/15\n",
            "이천:1/17\n",
            "평택:2/17\n",
            "춘천:0/16\n",
            "원주:3/17\n",
            "강릉:5/18\n",
            "대전:4/18\n",
            "세종:2/18\n",
            "홍성:2/17\n",
            "청주:4/18\n",
            "충주:2/17\n",
            "영동:2/19\n",
            "광주:7/20\n",
            "목포:7/18\n",
            "여수:9/16\n",
            "순천:7/19\n",
            "광양:8/19\n",
            "나주:5/20\n",
            "전주:5/19\n",
            "군산:3/17\n",
            "정읍:4/18\n",
            "남원:5/20\n",
            "고창:4/17\n",
            "무주:2/19\n",
            "부산:9/17\n",
            "울산:6/19\n",
            "창원:7/18\n",
            "진주:4/19\n",
            "거창:1/20\n",
            "통영:8/17\n",
            "대구:5/20\n",
            "안동:2/17\n",
            "포항:7/20\n",
            "경주:4/21\n",
            "울진:4/17\n",
            "울릉도:7/14\n",
            "제주:11/21\n",
            "서귀포:12/18\n"
          ]
        }
      ]
    },
    {
      "cell_type": "code",
      "source": [],
      "metadata": {
        "id": "NOIlQ5m3sfrZ"
      },
      "execution_count": null,
      "outputs": []
    }
  ]
}